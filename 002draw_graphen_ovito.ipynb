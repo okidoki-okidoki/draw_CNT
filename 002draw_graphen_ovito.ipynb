{
 "cells": [
  {
   "cell_type": "code",
   "execution_count": 2,
   "metadata": {},
   "outputs": [],
   "source": [
    "import matplotlib.pyplot as plt\n",
    "import numpy as np"
   ]
  },
  {
   "cell_type": "code",
   "execution_count": null,
   "metadata": {},
   "outputs": [],
   "source": [
    "a = 2.461\n",
    "a1 = np.array([a*(3**0.5)/2, a/2])\n",
    "a2 = np.array([a*(3**0.5)/2, -a/2])\n",
    "b1 = np.array([-2*a/3, 0])\n",
    "b2 = np.array([((3**0.5)/2-2/3)*a, a/2])\n",
    "b3 = np.array([((3**0.5)/2-2/3)*a, -a/2])\n",
    "plt.axes().set_aspect('equal')\n",
    "for i in range(10):\n",
    "    for j in range(10):\n",
    "        plt.scatter(i*a1[0]+j*a2[0], i*a1[1]+j*a2[1], color = \"black\")\n",
    "        plt.scatter(2*a/3+i*a1[0]+j*a2[0], i*a1[1]+j*a2[1], color = \"black\")\n",
    "        plt.plot([2*a/3+i*a1[0]+j*a2[0], 2*a/3+i*a1[0]+j*a2[0]+b1[0]], [i*a1[1]+j*a2[1], i*a1[1]+j*a2[1]+b1[1]], color = \"black\")\n",
    "        plt.plot([2*a/3+i*a1[0]+j*a2[0], 2*a/3+i*a1[0]+j*a2[0]+b2[0]], [i*a1[1]+j*a2[1], i*a1[1]+j*a2[1]+b2[1]], color = \"black\")\n",
    "        plt.plot([2*a/3+i*a1[0]+j*a2[0], 2*a/3+i*a1[0]+j*a2[0]+b3[0]], [i*a1[1]+j*a2[1], i*a1[1]+j*a2[1]+b3[1]], color = \"black\")\n",
    "\n",
    "\n",
    "plt.show()"
   ]
  },
  {
   "cell_type": "code",
   "execution_count": null,
   "metadata": {},
   "outputs": [],
   "source": [
    "a = 2.461\n",
    "a1 = np.array([a*(3**0.5)/2, a/2])\n",
    "a2 = np.array([a*(3**0.5)/2, -a/2])\n",
    "xlistA = np.empty(0)\n",
    "ylistA = np.empty(0)\n",
    "zlistA = np.empty(0)\n",
    "xlistB = np.empty(0)\n",
    "ylistB = np.empty(0)\n",
    "zlistB = np.empty(0)\n",
    "\n",
    "for i in range(10):\n",
    "    for j in range(10):\n",
    "        xlistA = np.append(xlistA, i*a1[0]+j*a2[0])\n",
    "        ylistA = np.append(ylistA, i*a1[1]+j*a2[1])\n",
    "        zlistA = np.append(zlistA, 0)\n",
    "        xlistB = np.append(xlistB, 2*a/3+i*a1[0]+j*a2[0])\n",
    "        ylistB = np.append(ylistB, i*a1[1]+j*a2[1])\n",
    "        zlistB = np.append(zlistB, 0)\n",
    "\n",
    "\n",
    "\n"
   ]
  },
  {
   "cell_type": "code",
   "execution_count": null,
   "metadata": {},
   "outputs": [],
   "source": [
    "def write2xyz(xlist, ylist, zlist, filename):\n",
    "    with open(filename, 'w') as f:\n",
    "        f.write(f'{len(xlist)}\\n')\n",
    "        f.write('id, x, y, z\\n')\n",
    "        for x, y, z in zip(xlist, ylist, zlist):\n",
    "            f.write(f'C {x} {y} {z}\\n')"
   ]
  }
 ],
 "metadata": {
  "kernelspec": {
   "display_name": "Python 3",
   "language": "python",
   "name": "python3"
  },
  "language_info": {
   "codemirror_mode": {
    "name": "ipython",
    "version": 3
   },
   "file_extension": ".py",
   "mimetype": "text/x-python",
   "name": "python",
   "nbconvert_exporter": "python",
   "pygments_lexer": "ipython3",
   "version": "3.10.11"
  }
 },
 "nbformat": 4,
 "nbformat_minor": 2
}
